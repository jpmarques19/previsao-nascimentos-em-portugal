{
 "cells": [
  {
   "cell_type": "markdown",
   "id": "d7e1bfce",
   "metadata": {},
   "source": [
    "# Relatório Final - Análise de Séries Temporais de Nascimentos em Portugal\n",
    "Este notebook apresenta uma análise compreensiva da série temporal de nascimentos em Portugal, abordando todos os aspectos requeridos no projeto."
   ]
  },
  {
   "cell_type": "markdown",
   "id": "e5155098",
   "metadata": {},
   "source": [
    "## Preparação dos Dados\n",
    "O dataset foi carregado e verificado quanto a dados omissos. As datas foram convertidas para o formato datetime e definidas como índice do DataFrame."
   ]
  },
  {
   "cell_type": "code",
   "execution_count": null,
   "id": "dd98c50c",
   "metadata": {},
   "outputs": [],
   "source": [
    "import pandas as pd\n",
    "\n",
    "# Load the dataset\n",
    "file_path = '../data/processed/births_PT_limpo.csv'  # Update with the actual path\n",
    "births_data = pd.read_csv(file_path)\n",
    "births_data['Date'] = pd.to_datetime(births_data['Date'])\n",
    "births_data.set_index('Date', inplace=True)\n",
    "births_data.head()\n"
   ]
  },
  {
   "cell_type": "markdown",
   "id": "55bc3911",
   "metadata": {},
   "source": [
    "## Análise Descritiva\n",
    "A análise descritiva revela as características fundamentais dos dados. Foram geradas estatísticas descritivas e visualizações."
   ]
  },
  {
   "cell_type": "code",
   "execution_count": null,
   "id": "6faa0abc",
   "metadata": {},
   "outputs": [],
   "source": [
    "import matplotlib.pyplot as plt\n",
    "import seaborn as sns\n",
    "\n",
    "# Summary statistics\n",
    "display(births_data.describe())\n",
    "\n",
    "# Histogram\n",
    "plt.figure(figsize=(10, 6))\n",
    "plt.hist(births_data['Births'], bins=30)\n",
    "plt.title('Distribuição de Nascimentos')\n",
    "plt.xlabel('Nascimentos')\n",
    "plt.ylabel('Frequência')\n",
    "plt.show()\n",
    "\n",
    "# Box Plot\n",
    "plt.figure(figsize=(10, 6))\n",
    "sns.boxplot(births_data['Births'])\n",
    "plt.title('Box Plot de Nascimentos')\n",
    "plt.xlabel('Nascimentos')\n",
    "plt.show()\n"
   ]
  },
  {
   "cell_type": "markdown",
   "id": "1bda1133",
   "metadata": {},
   "source": [
    "## Visualização Temporal e Correlograma\n",
    "A série temporal foi visualizada para identificar tendências, sazonalidade e outras características. Além disso, foi realizado um correlograma para analisar a autocorrelação."
   ]
  },
  {
   "cell_type": "code",
   "execution_count": null,
   "id": "1f8f6c78",
   "metadata": {},
   "outputs": [],
   "source": [
    "from statsmodels.graphics.tsaplots import plot_acf\n",
    "\n",
    "# Time series plot\n",
    "plt.figure(figsize=(12, 6))\n",
    "plt.plot(births_data['Births'], label='Births')\n",
    "plt.title('Time Series of Births in Portugal')\n",
    "plt.xlabel('Date')\n",
    "plt.ylabel('Number of Births')\n",
    "plt.legend()\n",
    "plt.show()\n",
    "\n",
    "# Correlogram\n",
    "plot_acf(births_data['Births'].dropna(), lags=40)\n",
    "plt.show()\n"
   ]
  },
  {
   "cell_type": "markdown",
   "id": "54b04002",
   "metadata": {},
   "source": [
    "## Análise de Estacionariedade\n",
    "Foi realizada a análise de estacionariedade da série temporal para determinar se as propriedades estatísticas da série se mantêm constantes ao longo do tempo."
   ]
  },
  {
   "cell_type": "code",
   "execution_count": null,
   "id": "0f7c7c89",
   "metadata": {},
   "outputs": [],
   "source": [
    "from statsmodels.tsa.stattools import adfuller\n",
    "\n",
    "# Performing Augmented Dickey-Fuller test\n",
    "adf_test = adfuller(births_data['Births'].dropna())\n",
    "\n",
    "# Displaying ADF test results\n",
    "adf_result = {\n",
    "    'ADF Statistic': adf_test[0],\n",
    "    'p-value': adf_test[1],\n",
    "    'Used Lag': adf_test[2],\n",
    "    'Number of Observations Used': adf_test[3],\n",
    "    'Critical Values': adf_test[4],\n",
    "}\n",
    "adf_result\n"
   ]
  },
  {
   "cell_type": "markdown",
   "id": "28efda0a",
   "metadata": {},
   "source": [
    "## Decomposição Temporal\n",
    "Foram aplicados métodos de decomposição clássica e STL à série temporal para identificar e separar componentes como tendência, sazonalidade e resíduos."
   ]
  },
  {
   "cell_type": "code",
   "execution_count": null,
   "id": "5b6681a2",
   "metadata": {},
   "outputs": [],
   "source": [
    "from statsmodels.tsa.seasonal import seasonal_decompose, STL\n",
    "\n",
    "# Classical Decomposition\n",
    "decompose_classical = seasonal_decompose(births_data['Births'], model='additive', period=12)\n",
    "fig = decompose_classical.plot()\n",
    "fig.set_size_inches(10, 8)\n",
    "plt.show()\n",
    "\n",
    "# STL Decomposition\n",
    "stl = STL(births_data['Births'], seasonal=13)\n",
    "result = stl.fit()\n",
    "fig = result.plot()\n",
    "fig.set_size_inches(10, 8)\n",
    "plt.show()\n"
   ]
  },
  {
   "cell_type": "markdown",
   "id": "dd742694",
   "metadata": {},
   "source": [
    "## Conclusão\n",
    "Este relatório forneceu uma análise detalhada da série temporal dos nascimentos em Portugal, abordando diversos aspectos como estacionariedade, sazonalidade e tendência. As conclusões derivadas desta análise são cruciais para a compreensão das dinâmicas temporais dos nascimentos no país."
   ]
  }
 ],
 "metadata": {},
 "nbformat": 4,
 "nbformat_minor": 5
}
